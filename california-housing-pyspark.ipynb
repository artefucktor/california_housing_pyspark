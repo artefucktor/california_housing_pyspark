{
 "cells": [
  {
   "cell_type": "markdown",
   "id": "GEqQaHzsZ_bA",
   "metadata": {
    "id": "GEqQaHzsZ_bA"
   },
   "source": [
    "# Предсказание стоимости жилья\n",
    "\n",
    "Цель:\n",
    "- предсказание медианной стоимости дома в жилом массиве\n",
    "\n",
    "Задачи:\n",
    "- загрузить и изучить данные\n",
    "- проверить и заполнить пропущенные значения\n",
    "- обучить модель линейной регрессии\n",
    "    - на всех признаках\n",
    "    - только на числовых\n",
    "- оценить качество моделей по метрикам RMSE, MAE и R2\n"
   ]
  },
  {
   "cell_type": "markdown",
   "id": "6b749a72",
   "metadata": {},
   "source": [
    "## Загрузка библиотек и данных"
   ]
  },
  {
   "cell_type": "code",
   "execution_count": 1,
   "id": "bb5b9977",
   "metadata": {},
   "outputs": [],
   "source": [
    "import pandas as pd\n",
    "import pyspark\n",
    "import re\n",
    "\n",
    "from operator import and_\n",
    "from functools import reduce\n",
    "\n",
    "from pyspark.sql import SparkSession\n",
    "from pyspark.sql.types import *\n",
    "from pyspark.sql.window import Window \n",
    "\n",
    "import pyspark.sql.functions as F\n",
    "\n",
    "from pyspark.ml.feature import StringIndexer, VectorAssembler, StandardScaler, OneHotEncoder\n",
    "from pyspark.ml.regression import LinearRegression\n",
    "from pyspark.ml.evaluation import RegressionEvaluator\n",
    "from pyspark.ml.tuning import CrossValidator, ParamGridBuilder\n",
    "from pyspark.ml.pipeline import Pipeline\n",
    "\n",
    "import seaborn as sns\n",
    "import matplotlib.pyplot as plt\n"
   ]
  },
  {
   "cell_type": "code",
   "execution_count": 2,
   "id": "5c31df93",
   "metadata": {
    "scrolled": true
   },
   "outputs": [
    {
     "name": "stdout",
     "output_type": "stream",
     "text": [
      "23/03/16 23:48:10 WARN Utils: Your hostname, MacBook-Pro-2.local resolves to a loopback address: 127.0.0.1; using 192.168.0.44 instead (on interface en0)\n",
      "23/03/16 23:48:10 WARN Utils: Set SPARK_LOCAL_IP if you need to bind to another address\n"
     ]
    },
    {
     "name": "stderr",
     "output_type": "stream",
     "text": [
      "Setting default log level to \"WARN\".\n",
      "To adjust logging level use sc.setLogLevel(newLevel). For SparkR, use setLogLevel(newLevel).\n"
     ]
    },
    {
     "name": "stdout",
     "output_type": "stream",
     "text": [
      "23/03/16 23:48:11 WARN NativeCodeLoader: Unable to load native-hadoop library for your platform... using builtin-java classes where applicable\n"
     ]
    },
    {
     "name": "stderr",
     "output_type": "stream",
     "text": [
      "                                                                                \r"
     ]
    }
   ],
   "source": [
    "RANDOM_SEED = 7\n",
    "\n",
    "spark = SparkSession.builder \\\n",
    "                    .master(\"local\") \\\n",
    "                    .appName(\"California housing\") \\\n",
    "                    .getOrCreate()\n",
    "\n",
    "# Колонку индекса удаляем сразу на этапе импорта\n",
    "\n",
    "df = spark.read.csv('../datasets/housing.csv', inferSchema = True, header=True).drop('_c0')\n"
   ]
  },
  {
   "cell_type": "markdown",
   "id": "53871372",
   "metadata": {
    "id": "53871372"
   },
   "source": [
    "## Подготовка данных"
   ]
  },
  {
   "cell_type": "code",
   "execution_count": 3,
   "id": "067299a3",
   "metadata": {
    "scrolled": true
   },
   "outputs": [
    {
     "name": "stdout",
     "output_type": "stream",
     "text": [
      "root\n",
      " |-- longitude: double (nullable = true)\n",
      " |-- latitude: double (nullable = true)\n",
      " |-- housing_median_age: double (nullable = true)\n",
      " |-- total_rooms: double (nullable = true)\n",
      " |-- total_bedrooms: double (nullable = true)\n",
      " |-- population: double (nullable = true)\n",
      " |-- households: double (nullable = true)\n",
      " |-- median_income: double (nullable = true)\n",
      " |-- median_house_value: double (nullable = true)\n",
      " |-- ocean_proximity: string (nullable = true)\n",
      "\n"
     ]
    }
   ],
   "source": [
    "df.printSchema()"
   ]
  },
  {
   "cell_type": "code",
   "execution_count": 4,
   "id": "70be268b",
   "metadata": {
    "scrolled": true
   },
   "outputs": [
    {
     "name": "stderr",
     "output_type": "stream",
     "text": [
      "                                                                                \r"
     ]
    },
    {
     "data": {
      "text/html": [
       "<div>\n",
       "<style scoped>\n",
       "    .dataframe tbody tr th:only-of-type {\n",
       "        vertical-align: middle;\n",
       "    }\n",
       "\n",
       "    .dataframe tbody tr th {\n",
       "        vertical-align: top;\n",
       "    }\n",
       "\n",
       "    .dataframe thead th {\n",
       "        text-align: right;\n",
       "    }\n",
       "</style>\n",
       "<table border=\"1\" class=\"dataframe\">\n",
       "  <thead>\n",
       "    <tr style=\"text-align: right;\">\n",
       "      <th></th>\n",
       "      <th>summary</th>\n",
       "      <th>longitude</th>\n",
       "      <th>latitude</th>\n",
       "      <th>housing_median_age</th>\n",
       "      <th>total_rooms</th>\n",
       "      <th>total_bedrooms</th>\n",
       "      <th>population</th>\n",
       "      <th>households</th>\n",
       "      <th>median_income</th>\n",
       "      <th>median_house_value</th>\n",
       "      <th>ocean_proximity</th>\n",
       "    </tr>\n",
       "  </thead>\n",
       "  <tbody>\n",
       "    <tr>\n",
       "      <th>0</th>\n",
       "      <td>count</td>\n",
       "      <td>20640</td>\n",
       "      <td>20640</td>\n",
       "      <td>20640</td>\n",
       "      <td>20640</td>\n",
       "      <td>20433</td>\n",
       "      <td>20640</td>\n",
       "      <td>20640</td>\n",
       "      <td>20640</td>\n",
       "      <td>20640</td>\n",
       "      <td>20640</td>\n",
       "    </tr>\n",
       "    <tr>\n",
       "      <th>1</th>\n",
       "      <td>mean</td>\n",
       "      <td>-119.56970445736148</td>\n",
       "      <td>35.6318614341087</td>\n",
       "      <td>28.639486434108527</td>\n",
       "      <td>2635.7630813953488</td>\n",
       "      <td>537.8705525375618</td>\n",
       "      <td>1425.4767441860465</td>\n",
       "      <td>499.5396802325581</td>\n",
       "      <td>3.8706710029070246</td>\n",
       "      <td>206855.81690891474</td>\n",
       "      <td>None</td>\n",
       "    </tr>\n",
       "    <tr>\n",
       "      <th>2</th>\n",
       "      <td>stddev</td>\n",
       "      <td>2.003531723502584</td>\n",
       "      <td>2.135952397457101</td>\n",
       "      <td>12.58555761211163</td>\n",
       "      <td>2181.6152515827944</td>\n",
       "      <td>421.38507007403115</td>\n",
       "      <td>1132.46212176534</td>\n",
       "      <td>382.3297528316098</td>\n",
       "      <td>1.899821717945263</td>\n",
       "      <td>115395.61587441359</td>\n",
       "      <td>None</td>\n",
       "    </tr>\n",
       "    <tr>\n",
       "      <th>3</th>\n",
       "      <td>min</td>\n",
       "      <td>-124.35</td>\n",
       "      <td>32.54</td>\n",
       "      <td>1.0</td>\n",
       "      <td>2.0</td>\n",
       "      <td>1.0</td>\n",
       "      <td>3.0</td>\n",
       "      <td>1.0</td>\n",
       "      <td>0.4999</td>\n",
       "      <td>14999.0</td>\n",
       "      <td>&lt;1H OCEAN</td>\n",
       "    </tr>\n",
       "    <tr>\n",
       "      <th>4</th>\n",
       "      <td>max</td>\n",
       "      <td>-114.31</td>\n",
       "      <td>41.95</td>\n",
       "      <td>52.0</td>\n",
       "      <td>39320.0</td>\n",
       "      <td>6445.0</td>\n",
       "      <td>35682.0</td>\n",
       "      <td>6082.0</td>\n",
       "      <td>15.0001</td>\n",
       "      <td>500001.0</td>\n",
       "      <td>NEAR OCEAN</td>\n",
       "    </tr>\n",
       "  </tbody>\n",
       "</table>\n",
       "</div>"
      ],
      "text/plain": [
       "  summary            longitude           latitude  housing_median_age  \\\n",
       "0   count                20640              20640               20640   \n",
       "1    mean  -119.56970445736148   35.6318614341087  28.639486434108527   \n",
       "2  stddev    2.003531723502584  2.135952397457101   12.58555761211163   \n",
       "3     min              -124.35              32.54                 1.0   \n",
       "4     max              -114.31              41.95                52.0   \n",
       "\n",
       "          total_rooms      total_bedrooms          population  \\\n",
       "0               20640               20433               20640   \n",
       "1  2635.7630813953488   537.8705525375618  1425.4767441860465   \n",
       "2  2181.6152515827944  421.38507007403115    1132.46212176534   \n",
       "3                 2.0                 1.0                 3.0   \n",
       "4             39320.0              6445.0             35682.0   \n",
       "\n",
       "          households       median_income  median_house_value ocean_proximity  \n",
       "0              20640               20640               20640           20640  \n",
       "1  499.5396802325581  3.8706710029070246  206855.81690891474            None  \n",
       "2  382.3297528316098   1.899821717945263  115395.61587441359            None  \n",
       "3                1.0              0.4999             14999.0       <1H OCEAN  \n",
       "4             6082.0             15.0001            500001.0      NEAR OCEAN  "
      ]
     },
     "execution_count": 4,
     "metadata": {},
     "output_type": "execute_result"
    }
   ],
   "source": [
    "df.describe().toPandas() \n"
   ]
  },
  {
   "cell_type": "markdown",
   "id": "14a052b1",
   "metadata": {},
   "source": [
    "### Выделение признаков\n",
    "\n",
    "Разделим признаки на числовые и категориальные, выделим целевой признак."
   ]
  },
  {
   "cell_type": "code",
   "execution_count": 5,
   "id": "fc08d0c6",
   "metadata": {},
   "outputs": [],
   "source": [
    "cat_features = ['ocean_proximity']\n",
    "num_features = ['longitude',\n",
    "                'latitude',\n",
    "                'housing_median_age',\n",
    "                'total_rooms',\n",
    "                'total_bedrooms',\n",
    "                'population',\n",
    "                'households',\n",
    "                'median_income'\n",
    "               ]\n",
    "target = 'median_house_value'"
   ]
  },
  {
   "cell_type": "markdown",
   "id": "bd709086",
   "metadata": {},
   "source": [
    "### Пропущенные значения"
   ]
  },
  {
   "cell_type": "code",
   "execution_count": 6,
   "id": "6ee1d7be",
   "metadata": {
    "scrolled": true
   },
   "outputs": [
    {
     "name": "stdout",
     "output_type": "stream",
     "text": [
      "Пропущенные значения        nan  null  zero values  empty str\n",
      "  longitude                0     0            0          0\n",
      "  latitude                 0     0            0          0\n",
      "  housing_median_age       0     0            0          0\n",
      "  total_rooms              0     0            0          0\n",
      "  total_bedrooms           0   207            0          0\n",
      "  population               0     0            0          0\n",
      "  households               0     0            0          0\n",
      "  median_income            0     0            0          0\n",
      "  median_house_value       0     0            0          0\n",
      "  ocean_proximity          0     0            0          0\n"
     ]
    }
   ],
   "source": [
    "print(f\"{'Пропущенные значения':<25} {'nan':>5} {'null':>5} {'zero values':>12} {'empty str':>10}\")\n",
    "for c in df.columns:\n",
    "    print(f\"  {c:<20} {df.filter(F.isnan(c)).count():>5} {df.filter(F.isnull(c)).count():>5} {df.filter(F.col(c)==0).count():>12} {df.filter(F.col(c)=='').count():>10}\")\n"
   ]
  },
  {
   "cell_type": "code",
   "execution_count": 7,
   "id": "59ce74a2",
   "metadata": {},
   "outputs": [
    {
     "name": "stdout",
     "output_type": "stream",
     "text": [
      "Корреляция total_bedrooms\n",
      "  longitude                  0.07\n",
      "  latitude                  -0.07\n",
      "  housing_median_age        -0.32\n",
      "  total_rooms                0.92\n",
      "  total_bedrooms             1.00\n",
      "  population                 0.87\n",
      "  households                 0.97\n",
      "  median_income             -0.01\n",
      "  median_house_value         0.05\n"
     ]
    }
   ],
   "source": [
    "print('Корреляция total_bedrooms')\n",
    "for c in num_features+[target]:\n",
    "    print(f\"  {c:<25} {df.corr('total_bedrooms', c):>5.2f}\")\n"
   ]
  },
  {
   "cell_type": "markdown",
   "id": "2f9a223d",
   "metadata": {},
   "source": [
    "В колонке `total_bedrooms` есть пропущенные значения.\n",
    "\n",
    "Наибольшая корреляция у этого признака с `households`. Сгруппируем датасет по `households`, получим медианное количество спален и заполним пропуски этим значением.\n",
    "\n",
    "В некоторых случаях в `households` не хватило данных для заполнения, поэтому используем аналогично группировки и медиану по `total_rooms` и `population`.\n",
    "\n"
   ]
  },
  {
   "cell_type": "code",
   "execution_count": 8,
   "id": "cc6d3059",
   "metadata": {},
   "outputs": [
    {
     "name": "stderr",
     "output_type": "stream",
     "text": [
      "[Stage 130:>                                                        (0 + 1) / 1]\r"
     ]
    },
    {
     "name": "stdout",
     "output_type": "stream",
     "text": [
      "Пропуски в total_bedrooms 0\n"
     ]
    },
    {
     "name": "stderr",
     "output_type": "stream",
     "text": [
      "\r",
      "                                                                                \r"
     ]
    }
   ],
   "source": [
    "for c in ['households','total_rooms','population']:\n",
    "    # создаем окно по соответствующему признаку\n",
    "    window = Window().partitionBy(c)\n",
    "    # добавляем временный столбец с медианами по окнам\n",
    "    df = df.withColumn('median_bedrooms',F.percentile_approx('total_bedrooms', 0.5).over(window))\n",
    "    # если пустое значение, то берем его из оконной медианы\n",
    "    df = df.withColumn('total_bedrooms', F.coalesce('total_bedrooms', 'median_bedrooms'))\n",
    "\n",
    "# временный стобец удалем\n",
    "df = df.drop('median_bedrooms')\n",
    "print(f\"Пропуски в total_bedrooms {df.filter(F.isnull('total_bedrooms')).count()}\")\n"
   ]
  },
  {
   "cell_type": "markdown",
   "id": "4d7b17f7",
   "metadata": {},
   "source": [
    "### Проверка категориальных значений"
   ]
  },
  {
   "cell_type": "code",
   "execution_count": 9,
   "id": "de36c7c8",
   "metadata": {},
   "outputs": [
    {
     "data": {
      "text/plain": [
       "[Row(ocean_proximity='ISLAND'),\n",
       " Row(ocean_proximity='NEAR OCEAN'),\n",
       " Row(ocean_proximity='NEAR BAY'),\n",
       " Row(ocean_proximity='<1H OCEAN'),\n",
       " Row(ocean_proximity='INLAND')]"
      ]
     },
     "execution_count": 9,
     "metadata": {},
     "output_type": "execute_result"
    }
   ],
   "source": [
    "df.select('ocean_proximity').distinct().collect()\n"
   ]
  },
  {
   "cell_type": "markdown",
   "id": "48f5d1be",
   "metadata": {},
   "source": [
    "Неявных дубликатов, ошибок не наблюдается."
   ]
  },
  {
   "cell_type": "markdown",
   "id": "5d8566fd",
   "metadata": {},
   "source": [
    "### Дополнительные признаки"
   ]
  },
  {
   "cell_type": "markdown",
   "id": "3f1ed1b2",
   "metadata": {},
   "source": [
    "Добавим дополнительные признаки:\n",
    "- количество комнат в домохозяйстве\n",
    "- количество проживающих в домохозяйстве\n",
    "- отношение количества спален к общему количеству комнат"
   ]
  },
  {
   "cell_type": "code",
   "execution_count": 10,
   "id": "71aba847",
   "metadata": {},
   "outputs": [],
   "source": [
    "df = df.withColumn('rooms_per_household', F.col('total_rooms')/F.col('households'))\n",
    "df = df.withColumn('population_in_household', F.col('population')/F.col('households'))\n",
    "df = df.withColumn('bedroom_index', F.col('total_bedrooms')/F.col('total_rooms'))\n",
    "\n",
    "# соберем новые признаки в дополнительный список\n",
    "new_num_features = ['rooms_per_household','population_in_household','bedroom_index']\n"
   ]
  },
  {
   "cell_type": "code",
   "execution_count": 11,
   "id": "fbcf69a9",
   "metadata": {},
   "outputs": [
    {
     "name": "stdout",
     "output_type": "stream",
     "text": [
      "Корреляция median_house_value\n",
      "  longitude                 -0.05\n",
      "  latitude                  -0.14\n",
      "  housing_median_age         0.11\n",
      "  total_rooms                0.13\n",
      "  total_bedrooms             0.05\n",
      "  population                -0.02\n",
      "  households                 0.07\n",
      "  median_income              0.69\n",
      "  rooms_per_household        0.15\n",
      "  population_in_household   -0.02\n",
      "  bedroom_index             -0.26\n"
     ]
    }
   ],
   "source": [
    "print('Корреляция median_house_value')\n",
    "for c in num_features + new_num_features:\n",
    "    print(f\"  {c:<25} {df.corr('median_house_value', c):>5.2f}\")\n"
   ]
  },
  {
   "cell_type": "markdown",
   "id": "6821ca22",
   "metadata": {},
   "source": [
    "По предварительной оценке наиболее выражена связь стоимости жилья и медианного дохода.\n",
    "\n",
    "Также можно отметить обратную корреляцию с `bedroom_index`, то есть в более дорогом жилье больше дополнительных комнат общего назначения (доля спальных комнат ниже)."
   ]
  },
  {
   "cell_type": "markdown",
   "id": "1da55e41",
   "metadata": {},
   "source": [
    "### Выбросы"
   ]
  },
  {
   "cell_type": "code",
   "execution_count": 12,
   "id": "899231ee",
   "metadata": {},
   "outputs": [
    {
     "name": "stdout",
     "output_type": "stream",
     "text": [
      "                количество выбросов    доля\n",
      "longitude                     0    0.0%\n",
      "latitude                      0    0.0%\n",
      "housing_median_age            0    0.0%\n",
      "total_rooms                1286    6.2%\n",
      "total_bedrooms             1278    6.2%\n",
      "population                 1196    5.8%\n",
      "households                 1220    5.9%\n",
      "median_income               680    3.3%\n",
      "rooms_per_household         511    2.5%\n",
      "population_in_household     711    3.4%\n",
      "bedroom_index               592    2.9%\n",
      "median_house_value         1071    5.2%\n"
     ]
    }
   ],
   "source": [
    "outliers = {}\n",
    "total_count = df.count()\n",
    "print(f\"{'количество выбросов':>35}{'доля':>8}\")\n",
    "for c in num_features + new_num_features + [target]:\n",
    "    Q1 = df.approxQuantile(c,[0.25],relativeError=0)[0]\n",
    "    Q3 = df.approxQuantile(c,[0.75],relativeError=0)[0]\n",
    "    IQR = Q3 - Q1\n",
    "    less_Q1 =  Q1 - 1.5*IQR\n",
    "    more_Q3 =  Q3 + 1.5*IQR\n",
    "    outliers |= { c: { 'less_Q1': less_Q1,\n",
    "                       'more_Q3': more_Q3\n",
    "                     }\n",
    "                }\n",
    "    outliers_count = df.filter((df[c] > more_Q3) | (df[c] < less_Q1)).count()\n",
    "    print(f\"{c:<25}{outliers_count:>6}{outliers_count/total_count:>8.1%}\")\n"
   ]
  },
  {
   "cell_type": "code",
   "execution_count": 13,
   "id": "621ce694",
   "metadata": {},
   "outputs": [],
   "source": [
    "def remove_outliers(data):\n",
    "    data = data.where(\n",
    "        reduce(and_, (\n",
    "            (val['less_Q1'] < df[col]) & (df[col] < val['more_Q3'])\n",
    "            for col, val in outliers.items()\n",
    "        ))\n",
    "    )\n",
    "    return data\n"
   ]
  },
  {
   "cell_type": "code",
   "execution_count": 14,
   "id": "259d645f",
   "metadata": {},
   "outputs": [
    {
     "name": "stdout",
     "output_type": "stream",
     "text": [
      "Количество записей в исходном датасете 20640\n",
      "Количество записей без выбросов 16339\n",
      "• доля выбросов 20.8%\n"
     ]
    }
   ],
   "source": [
    "total_count = df.count()\n",
    "count_wo_outliers = remove_outliers(df).count()\n",
    "print(f\"Количество записей в исходном датасете {total_count}\")\n",
    "print(f\"Количество записей без выбросов {count_wo_outliers}\")\n",
    "print(f\"• доля выбросов {1-count_wo_outliers/total_count:.1%}\")\n"
   ]
  },
  {
   "cell_type": "markdown",
   "id": "a66fa4fc",
   "metadata": {},
   "source": [
    "В результате экспериментов получилось, что удаление выбросов снижает качество модели.\n",
    "Поэтому для обучения буду использовать полный датасет. "
   ]
  },
  {
   "cell_type": "markdown",
   "id": "9f0a82f3",
   "metadata": {
    "id": "9f0a82f3"
   },
   "source": [
    "## Обучение моделей"
   ]
  },
  {
   "cell_type": "markdown",
   "id": "47a64327",
   "metadata": {},
   "source": [
    "### Разделение датасета на обучающую и тестовую выборки "
   ]
  },
  {
   "cell_type": "code",
   "execution_count": 15,
   "id": "b127a16a",
   "metadata": {},
   "outputs": [
    {
     "name": "stdout",
     "output_type": "stream",
     "text": [
      "\n",
      "    Обучающая выборка 16481 \n",
      "    тестовая выборка 4159\n",
      "    \n"
     ]
    }
   ],
   "source": [
    "train_data, test_data = df.randomSplit([.8,.2], seed=RANDOM_SEED)\n",
    "\n",
    "print(f'''\n",
    "    Обучающая выборка {train_data.count()} \n",
    "    тестовая выборка {test_data.count()}\n",
    "    ''')\n"
   ]
  },
  {
   "cell_type": "markdown",
   "id": "b3fca985",
   "metadata": {},
   "source": [
    "### Масштабирование и кодирование признаков"
   ]
  },
  {
   "cell_type": "code",
   "execution_count": 16,
   "id": "24ff01ea",
   "metadata": {},
   "outputs": [],
   "source": [
    "# категориальные – только один океан\n",
    "indexer = StringIndexer(inputCols=['ocean_proximity'], \n",
    "                        outputCols=['ocean_proximity_num'])\n",
    "\n",
    "encoder = OneHotEncoder(inputCols=['ocean_proximity_num'],\n",
    "                        outputCols=['ocean_proximity_ohe'])\n",
    "\n",
    "# числовые\n",
    "num_assembler = VectorAssembler(inputCols=num_features + new_num_features,\n",
    "                                outputCol='num_features')\n",
    "\n",
    "scaler = StandardScaler(inputCol='num_features',\n",
    "                        outputCol='num_features_ss')"
   ]
  },
  {
   "cell_type": "markdown",
   "id": "c8f02673",
   "metadata": {},
   "source": [
    "### Подбор гиперпараметров и кроссвалидация"
   ]
  },
  {
   "cell_type": "code",
   "execution_count": 17,
   "id": "e0bb540c",
   "metadata": {},
   "outputs": [],
   "source": [
    "def print_metrics(pred_data,pred_col):\n",
    "\n",
    "    metrics = { 'rmse' : None,\n",
    "                'mae'  : None,\n",
    "                'r2'   : None\n",
    "              }\n",
    "\n",
    "    evaluator = RegressionEvaluator(labelCol='median_house_value', \n",
    "                                    predictionCol=pred_col)\n",
    "\n",
    "    for m in metrics.keys():\n",
    "        metrics[m] = round(evaluator.setMetricName(m).evaluate(pred_data),2)\n",
    "        print(f\"{m.upper():<10} {metrics[m]}\")\n",
    "\n",
    "    return metrics\n"
   ]
  },
  {
   "cell_type": "code",
   "execution_count": 18,
   "id": "5ca87dd0",
   "metadata": {},
   "outputs": [],
   "source": [
    "def cv_train(pipeline, train, test):\n",
    "        \n",
    "    paramGrid = ParamGridBuilder() \\\n",
    "        .addGrid(lr.regParam, [0.01, 0.1, 1.0]) \\\n",
    "        .addGrid(lr.elasticNetParam, [0.0, 0.5, 1.0]) \\\n",
    "        .build()\n",
    "    \n",
    "    crossval = CrossValidator(estimator=pipeline,\n",
    "                              estimatorParamMaps=paramGrid,\n",
    "                              evaluator=RegressionEvaluator(labelCol='median_house_value'),\n",
    "                              seed=RANDOM_SEED,\n",
    "                              numFolds=3\n",
    "                             )\n",
    "\n",
    "    cvModel = crossval.fit(train)\n",
    "\n",
    "    print('Тестовая выборка')\n",
    "    print_metrics(cvModel.transform(test),'prediction')\n",
    "\n",
    "    print('\\nГиперпараметры лучшей модели')\n",
    "    [print(f\"  {re.sub(r'.+__', '',str(idx)):<20} {val}\") \n",
    "     for idx,val in cvModel.bestModel.stages[-1].extractParamMap().items()];\n",
    "    \n",
    "    return cvModel\n"
   ]
  },
  {
   "cell_type": "markdown",
   "id": "bd63f913",
   "metadata": {},
   "source": [
    "### Обучение на полном датасете"
   ]
  },
  {
   "cell_type": "code",
   "execution_count": null,
   "id": "4980b6aa",
   "metadata": {},
   "outputs": [
    {
     "name": "stderr",
     "output_type": "stream",
     "text": [
      "                                                                                \r"
     ]
    },
    {
     "name": "stdout",
     "output_type": "stream",
     "text": [
      "23/03/16 23:49:48 WARN InstanceBuilder$NativeBLAS: Failed to load implementation from:dev.ludovic.netlib.blas.JNIBLAS\n",
      "23/03/16 23:49:48 WARN InstanceBuilder$NativeBLAS: Failed to load implementation from:dev.ludovic.netlib.blas.ForeignLinkerBLAS\n"
     ]
    },
    {
     "name": "stderr",
     "output_type": "stream",
     "text": [
      "                                                                                \r"
     ]
    },
    {
     "name": "stdout",
     "output_type": "stream",
     "text": [
      "23/03/16 23:49:53 WARN InstanceBuilder$NativeLAPACK: Failed to load implementation from:dev.ludovic.netlib.lapack.JNILAPACK\n"
     ]
    },
    {
     "name": "stderr",
     "output_type": "stream",
     "text": [
      "                                                                                \r"
     ]
    }
   ],
   "source": [
    "%%time\n",
    "# финальная сборка и модель\n",
    "fin_assembler = VectorAssembler(inputCols=['ocean_proximity_ohe', 'num_features_ss'],\n",
    "                                outputCol='features_full') \n",
    "\n",
    "lr = LinearRegression(labelCol='median_house_value', featuresCol='features_full')\n",
    "\n",
    "# все в пайплайн\n",
    "pipe_cat = Pipeline(stages=[indexer, encoder])\n",
    "pipe_num = Pipeline(stages=[num_assembler, scaler])\n",
    "pipeline = Pipeline(stages=[pipe_cat, pipe_num, fin_assembler, lr])\n",
    "\n",
    "model_full = cv_train(pipeline, train_data, test_data)\n"
   ]
  },
  {
   "cell_type": "markdown",
   "id": "ff6316a9",
   "metadata": {},
   "source": [
    "### Обучение только на числовых признаках, исключая категориальные"
   ]
  },
  {
   "cell_type": "code",
   "execution_count": null,
   "id": "cab5182e",
   "metadata": {},
   "outputs": [],
   "source": [
    "%%time\n",
    "# берем пайплайн с числовыми масштабированными признаками\n",
    "lr = LinearRegression(labelCol='median_house_value', featuresCol='num_features_ss')\n",
    "pipeline = Pipeline(stages=[pipe_num, lr])\n",
    "\n",
    "model_num = cv_train(pipeline, train_data, test_data)\n"
   ]
  },
  {
   "cell_type": "markdown",
   "id": "ae7ae77f",
   "metadata": {},
   "source": [
    "### Сравнение с константными моделями"
   ]
  },
  {
   "cell_type": "code",
   "execution_count": null,
   "id": "2054edd9",
   "metadata": {
    "scrolled": false
   },
   "outputs": [],
   "source": [
    "total_median_house_value = round(df.approxQuantile('median_house_value',[0.5],relativeError=0)[0],2)\n",
    "total_mean_house_value = round(df.select(F.mean('median_house_value').alias('mean')).collect()[0]['mean'],2)\n",
    "\n",
    "print('Метрики константных моделей')\n",
    "print(f\"\\n{'• медиана':<10} {total_median_house_value}\")\n",
    "print_metrics(test_data.withColumn('pred_const', F.lit(total_median_house_value)),'pred_const')\n",
    "print(f\"\\n{'• среднее':<10} {total_mean_house_value}\")\n",
    "print_metrics(test_data.withColumn('pred_const', F.lit(total_mean_house_value)),'pred_const');\n"
   ]
  },
  {
   "cell_type": "markdown",
   "id": "be501164",
   "metadata": {},
   "source": [
    "Использование медианы и среднего для предсказания целевого признака показывает результат многократно хуже чем обученные модели."
   ]
  },
  {
   "cell_type": "code",
   "execution_count": null,
   "id": "a11a4330",
   "metadata": {},
   "outputs": [],
   "source": [
    "spark.stop()"
   ]
  },
  {
   "cell_type": "markdown",
   "id": "757fd103",
   "metadata": {
    "id": "757fd103"
   },
   "source": [
    "## Анализ результатов"
   ]
  },
  {
   "cell_type": "markdown",
   "id": "e266b912",
   "metadata": {},
   "source": [
    "**Для работы использован датасет по жилью в Калифорнии**\n",
    "- `longitude` — широта;\n",
    "- `latitude` — долгота;\n",
    "- `housing_median_age` — медианный возраст жителей жилого массива;\n",
    "- `total_rooms` — общее количество комнат в домах жилого массива;\n",
    "- `total_bedrooms` — общее количество спален в домах жилого массива;\n",
    "- `population` — количество человек, которые проживают в жилом массиве;\n",
    "- `households` — количество домовладений в жилом массиве;\n",
    "- `median_income` — медианный доход жителей жилого массива;\n",
    "- `median_house_value` — медианная стоимость дома в жилом массиве;\n",
    "- `ocean_proximity` — близость к океану.\n",
    "\n",
    "**В ходе работы**\n",
    "- загружен и изучен предоставленный датасет\n",
    "- Заполнены пропущенные значения, проверена корректность текстовых данных.\n",
    "- Созданы три дополнительных признака.\n",
    "- Найдены выбросы, проведены эксперименты по обучению с удалением выбросов и без удаления.\n",
    "\n",
    "**Обучены модели линейной регрессии**\n",
    "- на полном датасете\n",
    "- только на числовых признаках\n",
    "\n",
    "**Сделаны предсказания и рассчитаны метрики**\n",
    "- RMSE\n",
    "- MAE\n",
    "- R2\n",
    "\n",
    "**Выводы**\n",
    "- качество модели выше без удаления выбросов из обучающей выборки\n",
    "- качество модели выше при обучении на всем комплексе признаков (числовые и категориальные)\n",
    "- качество обученных моделей кратно выше по сравнению с константными моделями (медиана и среднее)\n",
    "\n",
    "**Лучшая модель**\n",
    "- линейная регрессия, обученная на полном датасете\n",
    "- метрики модели\n",
    "    - RMSE       68988.78\n",
    "    - MAE        49412.64\n",
    "    - R2         0.64\n",
    "- гиперпараметры лучшей модели\n",
    "    - aggregationDepth     2\n",
    "    - elasticNetParam      0.5\n",
    "    - epsilon              1.35\n",
    "    - featuresCol          features_full\n",
    "    - fitIntercept         True\n",
    "    - labelCol             median_house_value\n",
    "    - loss                 squaredError\n",
    "    - maxBlockSizeInMB     0.0\n",
    "    - maxIter              100\n",
    "    - predictionCol        prediction\n",
    "    - regParam             0.01\n",
    "    - solver               auto\n",
    "    - standardization      True\n",
    "    - tol                  1e-06\n",
    "\n",
    "\n"
   ]
  }
 ],
 "metadata": {
  "ExecuteTimeLog": [
   {
    "duration": 870,
    "start_time": "2023-03-11T08:31:30.405Z"
   },
   {
    "duration": 1404,
    "start_time": "2023-03-14T23:29:42.906Z"
   },
   {
    "duration": 29688,
    "start_time": "2023-03-14T23:29:44.312Z"
   },
   {
    "duration": 15,
    "start_time": "2023-03-14T23:30:14.003Z"
   },
   {
    "duration": 5067,
    "start_time": "2023-03-14T23:30:14.021Z"
   },
   {
    "duration": 3,
    "start_time": "2023-03-14T23:30:19.091Z"
   },
   {
    "duration": 12616,
    "start_time": "2023-03-14T23:30:19.096Z"
   },
   {
    "duration": 1864,
    "start_time": "2023-03-14T23:30:31.714Z"
   },
   {
    "duration": 119,
    "start_time": "2023-03-14T23:30:33.580Z"
   },
   {
    "duration": 0,
    "start_time": "2023-03-14T23:30:33.701Z"
   },
   {
    "duration": 0,
    "start_time": "2023-03-14T23:30:33.703Z"
   },
   {
    "duration": 0,
    "start_time": "2023-03-14T23:30:33.704Z"
   },
   {
    "duration": 0,
    "start_time": "2023-03-14T23:30:33.705Z"
   },
   {
    "duration": 0,
    "start_time": "2023-03-14T23:30:33.706Z"
   },
   {
    "duration": 0,
    "start_time": "2023-03-14T23:30:33.707Z"
   },
   {
    "duration": 1,
    "start_time": "2023-03-14T23:30:33.708Z"
   },
   {
    "duration": 0,
    "start_time": "2023-03-14T23:30:33.710Z"
   },
   {
    "duration": 0,
    "start_time": "2023-03-14T23:30:33.711Z"
   },
   {
    "duration": 0,
    "start_time": "2023-03-14T23:30:33.712Z"
   },
   {
    "duration": 0,
    "start_time": "2023-03-14T23:30:33.713Z"
   },
   {
    "duration": 0,
    "start_time": "2023-03-14T23:30:33.714Z"
   },
   {
    "duration": 0,
    "start_time": "2023-03-14T23:30:33.716Z"
   },
   {
    "duration": 456,
    "start_time": "2023-03-14T23:31:43.160Z"
   },
   {
    "duration": 801,
    "start_time": "2023-03-14T23:34:41.293Z"
   },
   {
    "duration": 887,
    "start_time": "2023-03-14T23:34:55.312Z"
   },
   {
    "duration": 1424,
    "start_time": "2023-03-14T23:35:19.032Z"
   },
   {
    "duration": 41434,
    "start_time": "2023-03-14T23:35:25.363Z"
   },
   {
    "duration": 26,
    "start_time": "2023-03-14T23:36:37.653Z"
   },
   {
    "duration": 5,
    "start_time": "2023-03-14T23:36:44.561Z"
   },
   {
    "duration": 17,
    "start_time": "2023-03-14T23:36:48.537Z"
   },
   {
    "duration": 5,
    "start_time": "2023-03-14T23:37:08.298Z"
   },
   {
    "duration": 5,
    "start_time": "2023-03-14T23:38:04.317Z"
   },
   {
    "duration": 4,
    "start_time": "2023-03-14T23:38:11.376Z"
   },
   {
    "duration": 1390,
    "start_time": "2023-03-14T23:38:45.518Z"
   },
   {
    "duration": 6,
    "start_time": "2023-03-14T23:38:51.044Z"
   },
   {
    "duration": 2454,
    "start_time": "2023-03-14T23:41:53.277Z"
   },
   {
    "duration": 2327,
    "start_time": "2023-03-14T23:42:01.973Z"
   },
   {
    "duration": 1313,
    "start_time": "2023-03-14T23:42:04.305Z"
   },
   {
    "duration": 26903,
    "start_time": "2023-03-14T23:42:05.620Z"
   },
   {
    "duration": 68,
    "start_time": "2023-03-14T23:42:32.525Z"
   },
   {
    "duration": 7118,
    "start_time": "2023-03-14T23:42:32.596Z"
   },
   {
    "duration": 4,
    "start_time": "2023-03-14T23:42:39.716Z"
   },
   {
    "duration": 14475,
    "start_time": "2023-03-14T23:42:39.722Z"
   },
   {
    "duration": 536,
    "start_time": "2023-03-14T23:42:54.199Z"
   },
   {
    "duration": 0,
    "start_time": "2023-03-14T23:42:54.737Z"
   },
   {
    "duration": 0,
    "start_time": "2023-03-14T23:42:54.738Z"
   },
   {
    "duration": 0,
    "start_time": "2023-03-14T23:42:54.739Z"
   },
   {
    "duration": 0,
    "start_time": "2023-03-14T23:42:54.740Z"
   },
   {
    "duration": 0,
    "start_time": "2023-03-14T23:42:54.741Z"
   },
   {
    "duration": 0,
    "start_time": "2023-03-14T23:42:54.742Z"
   },
   {
    "duration": 0,
    "start_time": "2023-03-14T23:42:54.745Z"
   },
   {
    "duration": 0,
    "start_time": "2023-03-14T23:42:54.746Z"
   },
   {
    "duration": 0,
    "start_time": "2023-03-14T23:42:54.747Z"
   },
   {
    "duration": 0,
    "start_time": "2023-03-14T23:42:54.748Z"
   },
   {
    "duration": 0,
    "start_time": "2023-03-14T23:42:54.750Z"
   },
   {
    "duration": 0,
    "start_time": "2023-03-14T23:42:54.751Z"
   },
   {
    "duration": 0,
    "start_time": "2023-03-14T23:42:54.752Z"
   },
   {
    "duration": 0,
    "start_time": "2023-03-14T23:42:54.753Z"
   },
   {
    "duration": 2365,
    "start_time": "2023-03-14T23:43:45.094Z"
   },
   {
    "duration": 1337,
    "start_time": "2023-03-14T23:43:47.462Z"
   },
   {
    "duration": 27700,
    "start_time": "2023-03-14T23:43:48.801Z"
   },
   {
    "duration": 13,
    "start_time": "2023-03-14T23:44:16.503Z"
   },
   {
    "duration": 7014,
    "start_time": "2023-03-14T23:44:16.581Z"
   },
   {
    "duration": 3,
    "start_time": "2023-03-14T23:44:23.597Z"
   },
   {
    "duration": 14905,
    "start_time": "2023-03-14T23:44:23.602Z"
   },
   {
    "duration": 2152,
    "start_time": "2023-03-14T23:44:38.509Z"
   },
   {
    "duration": 4239,
    "start_time": "2023-03-14T23:44:40.663Z"
   },
   {
    "duration": 707,
    "start_time": "2023-03-14T23:44:44.904Z"
   },
   {
    "duration": 94,
    "start_time": "2023-03-14T23:44:45.613Z"
   },
   {
    "duration": 5093,
    "start_time": "2023-03-14T23:44:45.709Z"
   },
   {
    "duration": 19921,
    "start_time": "2023-03-14T23:44:50.804Z"
   },
   {
    "duration": 4,
    "start_time": "2023-03-14T23:45:10.727Z"
   },
   {
    "duration": 1877,
    "start_time": "2023-03-14T23:45:10.732Z"
   },
   {
    "duration": 3784,
    "start_time": "2023-03-14T23:45:12.611Z"
   },
   {
    "duration": 114,
    "start_time": "2023-03-14T23:45:16.397Z"
   },
   {
    "duration": 3,
    "start_time": "2023-03-14T23:45:16.513Z"
   },
   {
    "duration": 9,
    "start_time": "2023-03-14T23:45:16.518Z"
   },
   {
    "duration": 2339,
    "start_time": "2023-03-14T23:46:36.462Z"
   },
   {
    "duration": 1368,
    "start_time": "2023-03-14T23:46:38.804Z"
   },
   {
    "duration": 26733,
    "start_time": "2023-03-14T23:46:40.175Z"
   },
   {
    "duration": 77,
    "start_time": "2023-03-14T23:47:06.911Z"
   },
   {
    "duration": 6804,
    "start_time": "2023-03-14T23:47:06.996Z"
   },
   {
    "duration": 4,
    "start_time": "2023-03-14T23:47:13.802Z"
   },
   {
    "duration": 14586,
    "start_time": "2023-03-14T23:47:13.808Z"
   },
   {
    "duration": 1764,
    "start_time": "2023-03-14T23:47:28.398Z"
   },
   {
    "duration": 4435,
    "start_time": "2023-03-14T23:47:30.164Z"
   },
   {
    "duration": 787,
    "start_time": "2023-03-14T23:47:34.602Z"
   },
   {
    "duration": 122,
    "start_time": "2023-03-14T23:47:35.394Z"
   },
   {
    "duration": 4975,
    "start_time": "2023-03-14T23:47:35.518Z"
   },
   {
    "duration": 19919,
    "start_time": "2023-03-14T23:47:40.494Z"
   },
   {
    "duration": 4,
    "start_time": "2023-03-14T23:48:00.416Z"
   },
   {
    "duration": 2209,
    "start_time": "2023-03-14T23:48:00.482Z"
   },
   {
    "duration": 3293,
    "start_time": "2023-03-14T23:48:02.692Z"
   },
   {
    "duration": 122,
    "start_time": "2023-03-14T23:48:05.989Z"
   },
   {
    "duration": 4,
    "start_time": "2023-03-14T23:48:06.113Z"
   },
   {
    "duration": 11,
    "start_time": "2023-03-14T23:48:06.119Z"
   },
   {
    "duration": 266567,
    "start_time": "2023-03-14T23:48:06.132Z"
   },
   {
    "duration": 0,
    "start_time": "2023-03-14T23:52:32.702Z"
   },
   {
    "duration": 0,
    "start_time": "2023-03-14T23:52:32.703Z"
   },
   {
    "duration": 0,
    "start_time": "2023-03-14T23:52:32.708Z"
   },
   {
    "duration": 2405,
    "start_time": "2023-03-14T23:52:41.200Z"
   },
   {
    "duration": 1304,
    "start_time": "2023-03-14T23:52:43.608Z"
   },
   {
    "duration": 27387,
    "start_time": "2023-03-14T23:52:44.914Z"
   },
   {
    "duration": 13,
    "start_time": "2023-03-14T23:53:12.304Z"
   },
   {
    "duration": 7300,
    "start_time": "2023-03-14T23:53:12.319Z"
   },
   {
    "duration": 4,
    "start_time": "2023-03-14T23:53:19.620Z"
   },
   {
    "duration": 14319,
    "start_time": "2023-03-14T23:53:19.684Z"
   },
   {
    "duration": 1910,
    "start_time": "2023-03-14T23:53:34.005Z"
   },
   {
    "duration": 3982,
    "start_time": "2023-03-14T23:53:35.917Z"
   },
   {
    "duration": 789,
    "start_time": "2023-03-14T23:53:39.903Z"
   },
   {
    "duration": 108,
    "start_time": "2023-03-14T23:53:40.695Z"
   },
   {
    "duration": 5678,
    "start_time": "2023-03-14T23:53:40.804Z"
   },
   {
    "duration": 16911,
    "start_time": "2023-03-14T23:53:46.484Z"
   },
   {
    "duration": 3,
    "start_time": "2023-03-14T23:54:03.397Z"
   },
   {
    "duration": 2218,
    "start_time": "2023-03-14T23:54:03.403Z"
   },
   {
    "duration": 3667,
    "start_time": "2023-03-14T23:54:05.623Z"
   },
   {
    "duration": 109,
    "start_time": "2023-03-14T23:54:09.291Z"
   },
   {
    "duration": 4,
    "start_time": "2023-03-14T23:54:09.401Z"
   },
   {
    "duration": 12,
    "start_time": "2023-03-14T23:54:09.407Z"
   },
   {
    "duration": 2076683,
    "start_time": "2023-03-14T23:54:09.421Z"
   },
   {
    "duration": 0,
    "start_time": "2023-03-15T00:28:46.106Z"
   },
   {
    "duration": 0,
    "start_time": "2023-03-15T00:28:46.108Z"
   },
   {
    "duration": 8,
    "start_time": "2023-03-15T00:28:58.282Z"
   },
   {
    "duration": 3303,
    "start_time": "2023-03-15T00:29:08.073Z"
   },
   {
    "duration": 1369,
    "start_time": "2023-03-15T00:29:11.378Z"
   },
   {
    "duration": 28353,
    "start_time": "2023-03-15T00:29:12.749Z"
   },
   {
    "duration": 76,
    "start_time": "2023-03-15T00:29:41.105Z"
   },
   {
    "duration": 7804,
    "start_time": "2023-03-15T00:29:41.184Z"
   },
   {
    "duration": 3,
    "start_time": "2023-03-15T00:29:48.990Z"
   },
   {
    "duration": 17209,
    "start_time": "2023-03-15T00:29:48.996Z"
   },
   {
    "duration": 2295,
    "start_time": "2023-03-15T00:30:06.209Z"
   },
   {
    "duration": 4988,
    "start_time": "2023-03-15T00:30:08.507Z"
   },
   {
    "duration": 793,
    "start_time": "2023-03-15T00:30:13.498Z"
   },
   {
    "duration": 186,
    "start_time": "2023-03-15T00:30:14.295Z"
   },
   {
    "duration": 5503,
    "start_time": "2023-03-15T00:30:14.484Z"
   },
   {
    "duration": 2454,
    "start_time": "2023-03-15T00:30:35.808Z"
   },
   {
    "duration": 1341,
    "start_time": "2023-03-15T00:30:38.264Z"
   },
   {
    "duration": 28193,
    "start_time": "2023-03-15T00:30:39.606Z"
   },
   {
    "duration": 13,
    "start_time": "2023-03-15T00:31:07.801Z"
   },
   {
    "duration": 6493,
    "start_time": "2023-03-15T00:31:07.818Z"
   },
   {
    "duration": 0,
    "start_time": "2023-03-15T00:31:14.313Z"
   },
   {
    "duration": 0,
    "start_time": "2023-03-15T00:31:14.389Z"
   },
   {
    "duration": 0,
    "start_time": "2023-03-15T00:31:14.391Z"
   },
   {
    "duration": 0,
    "start_time": "2023-03-15T00:31:14.393Z"
   },
   {
    "duration": 0,
    "start_time": "2023-03-15T00:31:14.395Z"
   },
   {
    "duration": 0,
    "start_time": "2023-03-15T00:31:14.396Z"
   },
   {
    "duration": 0,
    "start_time": "2023-03-15T00:31:14.397Z"
   },
   {
    "duration": 0,
    "start_time": "2023-03-15T00:31:14.398Z"
   },
   {
    "duration": 0,
    "start_time": "2023-03-15T00:31:14.398Z"
   },
   {
    "duration": 0,
    "start_time": "2023-03-15T00:31:14.399Z"
   },
   {
    "duration": 0,
    "start_time": "2023-03-15T00:31:14.400Z"
   },
   {
    "duration": 0,
    "start_time": "2023-03-15T00:31:14.400Z"
   },
   {
    "duration": 0,
    "start_time": "2023-03-15T00:31:14.403Z"
   },
   {
    "duration": 0,
    "start_time": "2023-03-15T00:31:14.404Z"
   },
   {
    "duration": 0,
    "start_time": "2023-03-15T00:31:14.405Z"
   },
   {
    "duration": 0,
    "start_time": "2023-03-15T00:31:14.406Z"
   },
   {
    "duration": 0,
    "start_time": "2023-03-15T00:31:14.407Z"
   },
   {
    "duration": 2406,
    "start_time": "2023-03-15T00:33:02.428Z"
   },
   {
    "duration": 1397,
    "start_time": "2023-03-15T00:33:04.837Z"
   },
   {
    "duration": 27547,
    "start_time": "2023-03-15T00:33:06.236Z"
   },
   {
    "duration": 18,
    "start_time": "2023-03-15T00:33:33.786Z"
   },
   {
    "duration": 7407,
    "start_time": "2023-03-15T00:33:33.806Z"
   },
   {
    "duration": 4,
    "start_time": "2023-03-15T00:33:41.215Z"
   },
   {
    "duration": 15973,
    "start_time": "2023-03-15T00:33:41.221Z"
   },
   {
    "duration": 1817,
    "start_time": "2023-03-15T00:33:57.195Z"
   },
   {
    "duration": 4392,
    "start_time": "2023-03-15T00:33:59.014Z"
   },
   {
    "duration": 810,
    "start_time": "2023-03-15T00:34:03.408Z"
   },
   {
    "duration": 181,
    "start_time": "2023-03-15T00:34:04.219Z"
   },
   {
    "duration": 5210,
    "start_time": "2023-03-15T00:34:04.403Z"
   },
   {
    "duration": 18716,
    "start_time": "2023-03-15T00:34:09.615Z"
   },
   {
    "duration": 5,
    "start_time": "2023-03-15T00:34:28.333Z"
   },
   {
    "duration": 2312,
    "start_time": "2023-03-15T00:34:28.382Z"
   },
   {
    "duration": 3398,
    "start_time": "2023-03-15T00:34:30.696Z"
   },
   {
    "duration": 138,
    "start_time": "2023-03-15T00:34:34.095Z"
   },
   {
    "duration": 4,
    "start_time": "2023-03-15T00:34:34.235Z"
   },
   {
    "duration": 20,
    "start_time": "2023-03-15T00:34:34.240Z"
   },
   {
    "duration": 41038,
    "start_time": "2023-03-15T00:34:34.261Z"
   },
   {
    "duration": 0,
    "start_time": "2023-03-15T00:35:15.305Z"
   },
   {
    "duration": 0,
    "start_time": "2023-03-15T00:35:15.307Z"
   },
   {
    "duration": 0,
    "start_time": "2023-03-15T00:35:15.309Z"
   },
   {
    "duration": 2229,
    "start_time": "2023-03-15T00:36:26.647Z"
   },
   {
    "duration": 1315,
    "start_time": "2023-03-15T00:36:28.879Z"
   },
   {
    "duration": 26800,
    "start_time": "2023-03-15T00:36:30.196Z"
   },
   {
    "duration": 16,
    "start_time": "2023-03-15T00:36:57.001Z"
   },
   {
    "duration": 7394,
    "start_time": "2023-03-15T00:36:57.019Z"
   },
   {
    "duration": 4,
    "start_time": "2023-03-15T00:37:04.415Z"
   },
   {
    "duration": 14772,
    "start_time": "2023-03-15T00:37:04.421Z"
   },
   {
    "duration": 2578,
    "start_time": "2023-03-15T00:37:19.195Z"
   },
   {
    "duration": 4030,
    "start_time": "2023-03-15T00:37:21.775Z"
   },
   {
    "duration": 683,
    "start_time": "2023-03-15T00:37:25.808Z"
   },
   {
    "duration": 123,
    "start_time": "2023-03-15T00:37:26.493Z"
   },
   {
    "duration": 5893,
    "start_time": "2023-03-15T00:37:26.619Z"
   },
   {
    "duration": 17703,
    "start_time": "2023-03-15T00:37:32.513Z"
   },
   {
    "duration": 3,
    "start_time": "2023-03-15T00:37:50.219Z"
   },
   {
    "duration": 2091,
    "start_time": "2023-03-15T00:37:50.223Z"
   },
   {
    "duration": 3767,
    "start_time": "2023-03-15T00:37:52.316Z"
   },
   {
    "duration": 128,
    "start_time": "2023-03-15T00:37:56.084Z"
   },
   {
    "duration": 5,
    "start_time": "2023-03-15T00:37:56.214Z"
   },
   {
    "duration": 13,
    "start_time": "2023-03-15T00:37:56.221Z"
   },
   {
    "duration": 612901,
    "start_time": "2023-03-15T00:37:56.281Z"
   },
   {
    "duration": 0,
    "start_time": "2023-03-15T00:48:09.184Z"
   },
   {
    "duration": 0,
    "start_time": "2023-03-15T00:48:09.186Z"
   },
   {
    "duration": 0,
    "start_time": "2023-03-15T00:48:09.187Z"
   },
   {
    "duration": 42650,
    "start_time": "2023-03-15T00:48:36.932Z"
   },
   {
    "duration": 13134,
    "start_time": "2023-03-15T00:49:21.383Z"
   },
   {
    "duration": 6505,
    "start_time": "2023-03-15T00:49:52.798Z"
   },
   {
    "duration": 2363,
    "start_time": "2023-03-15T00:50:22.508Z"
   },
   {
    "duration": 1351,
    "start_time": "2023-03-15T00:50:24.873Z"
   },
   {
    "duration": 28257,
    "start_time": "2023-03-15T00:50:26.226Z"
   },
   {
    "duration": 18,
    "start_time": "2023-03-15T00:50:54.486Z"
   },
   {
    "duration": 7316,
    "start_time": "2023-03-15T00:50:54.507Z"
   },
   {
    "duration": 4,
    "start_time": "2023-03-15T00:51:01.824Z"
   },
   {
    "duration": 14792,
    "start_time": "2023-03-15T00:51:01.831Z"
   },
   {
    "duration": 2116,
    "start_time": "2023-03-15T00:51:16.681Z"
   },
   {
    "duration": 4011,
    "start_time": "2023-03-15T00:51:18.799Z"
   },
   {
    "duration": 697,
    "start_time": "2023-03-15T00:51:22.812Z"
   },
   {
    "duration": 170,
    "start_time": "2023-03-15T00:51:23.511Z"
   },
   {
    "duration": 5306,
    "start_time": "2023-03-15T00:51:23.684Z"
   },
   {
    "duration": 18193,
    "start_time": "2023-03-15T00:51:28.992Z"
   },
   {
    "duration": 14,
    "start_time": "2023-03-15T00:51:47.195Z"
   },
   {
    "duration": 2574,
    "start_time": "2023-03-15T00:51:47.211Z"
   },
   {
    "duration": 1910,
    "start_time": "2023-03-15T00:53:21.271Z"
   },
   {
    "duration": 1295,
    "start_time": "2023-03-15T00:53:39.349Z"
   },
   {
    "duration": 1621,
    "start_time": "2023-03-15T00:53:49.659Z"
   },
   {
    "duration": 1211,
    "start_time": "2023-03-15T00:54:23.899Z"
   },
   {
    "duration": 1613,
    "start_time": "2023-03-15T00:54:33.568Z"
   },
   {
    "duration": 1367,
    "start_time": "2023-03-15T00:55:16.961Z"
   },
   {
    "duration": 11209,
    "start_time": "2023-03-15T00:55:44.906Z"
   },
   {
    "duration": 9761,
    "start_time": "2023-03-15T00:56:47.615Z"
   },
   {
    "duration": 3564,
    "start_time": "2023-03-15T00:57:03.032Z"
   },
   {
    "duration": 56,
    "start_time": "2023-03-15T00:57:12.164Z"
   },
   {
    "duration": 2331,
    "start_time": "2023-03-15T00:57:21.132Z"
   },
   {
    "duration": 1340,
    "start_time": "2023-03-15T00:57:23.465Z"
   },
   {
    "duration": 26490,
    "start_time": "2023-03-15T00:57:24.807Z"
   },
   {
    "duration": 81,
    "start_time": "2023-03-15T00:57:51.300Z"
   },
   {
    "duration": 6241,
    "start_time": "2023-03-15T00:57:51.384Z"
   },
   {
    "duration": 4,
    "start_time": "2023-03-15T00:57:57.682Z"
   },
   {
    "duration": 14306,
    "start_time": "2023-03-15T00:57:57.688Z"
   },
   {
    "duration": 1752,
    "start_time": "2023-03-15T00:58:11.995Z"
   },
   {
    "duration": 3546,
    "start_time": "2023-03-15T00:58:13.749Z"
   },
   {
    "duration": 708,
    "start_time": "2023-03-15T00:58:17.299Z"
   },
   {
    "duration": 109,
    "start_time": "2023-03-15T00:58:18.009Z"
   },
   {
    "duration": 4765,
    "start_time": "2023-03-15T00:58:18.121Z"
   },
   {
    "duration": 17293,
    "start_time": "2023-03-15T00:58:22.888Z"
   },
   {
    "duration": 4,
    "start_time": "2023-03-15T00:58:40.184Z"
   },
   {
    "duration": 2091,
    "start_time": "2023-03-15T00:58:40.190Z"
   },
   {
    "duration": 3308,
    "start_time": "2023-03-15T00:58:42.283Z"
   },
   {
    "duration": 126,
    "start_time": "2023-03-15T00:58:45.593Z"
   },
   {
    "duration": 4,
    "start_time": "2023-03-15T00:58:45.722Z"
   },
   {
    "duration": 30,
    "start_time": "2023-03-15T00:58:45.728Z"
   },
   {
    "duration": 2879,
    "start_time": "2023-03-15T08:05:57.377Z"
   },
   {
    "duration": 1512,
    "start_time": "2023-03-15T08:06:00.260Z"
   },
   {
    "duration": 30309,
    "start_time": "2023-03-15T08:06:01.774Z"
   },
   {
    "duration": 19,
    "start_time": "2023-03-15T08:06:32.086Z"
   },
   {
    "duration": 8506,
    "start_time": "2023-03-15T08:06:32.108Z"
   },
   {
    "duration": 4,
    "start_time": "2023-03-15T08:06:40.616Z"
   },
   {
    "duration": 17421,
    "start_time": "2023-03-15T08:06:40.680Z"
   },
   {
    "duration": 2053,
    "start_time": "2023-03-15T08:06:58.103Z"
   },
   {
    "duration": 5153,
    "start_time": "2023-03-15T08:07:00.158Z"
   },
   {
    "duration": 877,
    "start_time": "2023-03-15T08:07:05.313Z"
   },
   {
    "duration": 190,
    "start_time": "2023-03-15T08:07:06.193Z"
   },
   {
    "duration": 5903,
    "start_time": "2023-03-15T08:07:06.386Z"
   },
   {
    "duration": 20433,
    "start_time": "2023-03-15T08:07:12.291Z"
   },
   {
    "duration": 3,
    "start_time": "2023-03-15T08:07:32.728Z"
   },
   {
    "duration": 2286,
    "start_time": "2023-03-15T08:07:32.734Z"
   },
   {
    "duration": 3812,
    "start_time": "2023-03-15T08:07:35.081Z"
   },
   {
    "duration": 140,
    "start_time": "2023-03-15T08:07:38.896Z"
   },
   {
    "duration": 4,
    "start_time": "2023-03-15T08:07:39.038Z"
   },
   {
    "duration": 13,
    "start_time": "2023-03-15T08:07:39.044Z"
   },
   {
    "duration": 185063,
    "start_time": "2023-03-15T08:07:39.059Z"
   },
   {
    "duration": 119388,
    "start_time": "2023-03-15T08:10:44.124Z"
   },
   {
    "duration": 6196,
    "start_time": "2023-03-15T08:12:43.515Z"
   },
   {
    "duration": 7,
    "start_time": "2023-03-15T08:15:42.010Z"
   },
   {
    "duration": 7,
    "start_time": "2023-03-15T08:15:49.872Z"
   },
   {
    "duration": 6426076,
    "start_time": "2023-03-15T08:15:51.238Z"
   },
   {
    "duration": 0,
    "start_time": "2023-03-15T10:02:57.316Z"
   },
   {
    "duration": 0,
    "start_time": "2023-03-15T10:02:57.318Z"
   },
   {
    "duration": 0,
    "start_time": "2023-03-15T10:02:57.319Z"
   },
   {
    "duration": 2801,
    "start_time": "2023-03-15T10:03:16.182Z"
   },
   {
    "duration": 2597,
    "start_time": "2023-03-15T10:03:18.986Z"
   },
   {
    "duration": 2349,
    "start_time": "2023-03-15T10:03:37.815Z"
   },
   {
    "duration": 1381,
    "start_time": "2023-03-15T10:03:40.167Z"
   },
   {
    "duration": 4160,
    "start_time": "2023-03-15T10:03:41.550Z"
   },
   {
    "duration": 0,
    "start_time": "2023-03-15T10:03:45.713Z"
   },
   {
    "duration": 0,
    "start_time": "2023-03-15T10:03:45.714Z"
   },
   {
    "duration": 0,
    "start_time": "2023-03-15T10:03:45.716Z"
   },
   {
    "duration": 0,
    "start_time": "2023-03-15T10:03:45.717Z"
   },
   {
    "duration": 0,
    "start_time": "2023-03-15T10:03:45.718Z"
   },
   {
    "duration": 0,
    "start_time": "2023-03-15T10:03:45.719Z"
   },
   {
    "duration": 0,
    "start_time": "2023-03-15T10:03:45.720Z"
   },
   {
    "duration": 0,
    "start_time": "2023-03-15T10:03:45.781Z"
   },
   {
    "duration": 0,
    "start_time": "2023-03-15T10:03:45.785Z"
   },
   {
    "duration": 0,
    "start_time": "2023-03-15T10:03:45.786Z"
   },
   {
    "duration": 0,
    "start_time": "2023-03-15T10:03:45.788Z"
   },
   {
    "duration": 0,
    "start_time": "2023-03-15T10:03:45.789Z"
   },
   {
    "duration": 0,
    "start_time": "2023-03-15T10:03:45.791Z"
   },
   {
    "duration": 0,
    "start_time": "2023-03-15T10:03:45.793Z"
   },
   {
    "duration": 0,
    "start_time": "2023-03-15T10:03:45.796Z"
   },
   {
    "duration": 0,
    "start_time": "2023-03-15T10:03:45.798Z"
   },
   {
    "duration": 0,
    "start_time": "2023-03-15T10:03:45.799Z"
   },
   {
    "duration": 0,
    "start_time": "2023-03-15T10:03:45.800Z"
   },
   {
    "duration": 0,
    "start_time": "2023-03-15T10:03:45.802Z"
   },
   {
    "duration": 2400,
    "start_time": "2023-03-15T10:04:01.630Z"
   },
   {
    "duration": 1359,
    "start_time": "2023-03-15T10:04:04.033Z"
   },
   {
    "duration": 27395,
    "start_time": "2023-03-15T10:04:05.394Z"
   },
   {
    "duration": 14,
    "start_time": "2023-03-15T10:04:32.791Z"
   },
   {
    "duration": 7109,
    "start_time": "2023-03-15T10:04:32.808Z"
   },
   {
    "duration": 4,
    "start_time": "2023-03-15T10:04:39.919Z"
   },
   {
    "duration": 15102,
    "start_time": "2023-03-15T10:04:39.981Z"
   },
   {
    "duration": 1873,
    "start_time": "2023-03-15T10:04:55.085Z"
   },
   {
    "duration": 4622,
    "start_time": "2023-03-15T10:04:56.960Z"
   },
   {
    "duration": 748,
    "start_time": "2023-03-15T10:05:01.585Z"
   },
   {
    "duration": 104,
    "start_time": "2023-03-15T10:05:02.380Z"
   },
   {
    "duration": 5633,
    "start_time": "2023-03-15T10:05:02.486Z"
   },
   {
    "duration": 22164,
    "start_time": "2023-03-15T10:05:08.121Z"
   },
   {
    "duration": 4,
    "start_time": "2023-03-15T10:05:30.289Z"
   },
   {
    "duration": 2720,
    "start_time": "2023-03-15T10:05:30.296Z"
   },
   {
    "duration": 3694,
    "start_time": "2023-03-15T10:05:33.018Z"
   },
   {
    "duration": 201,
    "start_time": "2023-03-15T10:05:36.714Z"
   },
   {
    "duration": 4,
    "start_time": "2023-03-15T10:05:36.917Z"
   },
   {
    "duration": 63,
    "start_time": "2023-03-15T10:05:36.923Z"
   },
   {
    "duration": 399698,
    "start_time": "2023-03-15T10:05:36.989Z"
   },
   {
    "duration": 2603,
    "start_time": "2023-03-15T10:12:24.390Z"
   },
   {
    "duration": 1323,
    "start_time": "2023-03-15T10:12:26.996Z"
   },
   {
    "duration": 22181,
    "start_time": "2023-03-15T10:12:28.321Z"
   },
   {
    "duration": 0,
    "start_time": "2023-03-15T10:12:50.506Z"
   },
   {
    "duration": 0,
    "start_time": "2023-03-15T10:12:50.508Z"
   },
   {
    "duration": 0,
    "start_time": "2023-03-15T10:12:50.582Z"
   },
   {
    "duration": 0,
    "start_time": "2023-03-15T10:12:50.583Z"
   },
   {
    "duration": 0,
    "start_time": "2023-03-15T10:12:50.585Z"
   },
   {
    "duration": 0,
    "start_time": "2023-03-15T10:12:50.586Z"
   },
   {
    "duration": 0,
    "start_time": "2023-03-15T10:12:50.587Z"
   },
   {
    "duration": 0,
    "start_time": "2023-03-15T10:12:50.589Z"
   },
   {
    "duration": 0,
    "start_time": "2023-03-15T10:12:50.591Z"
   },
   {
    "duration": 0,
    "start_time": "2023-03-15T10:12:50.592Z"
   },
   {
    "duration": 0,
    "start_time": "2023-03-15T10:12:50.593Z"
   },
   {
    "duration": 0,
    "start_time": "2023-03-15T10:12:50.595Z"
   },
   {
    "duration": 0,
    "start_time": "2023-03-15T10:12:50.601Z"
   },
   {
    "duration": 0,
    "start_time": "2023-03-15T10:12:50.602Z"
   },
   {
    "duration": 0,
    "start_time": "2023-03-15T10:12:50.604Z"
   },
   {
    "duration": 0,
    "start_time": "2023-03-15T10:12:50.606Z"
   },
   {
    "duration": 0,
    "start_time": "2023-03-15T10:12:50.607Z"
   },
   {
    "duration": 0,
    "start_time": "2023-03-15T10:12:50.609Z"
   },
   {
    "duration": 0,
    "start_time": "2023-03-15T10:12:50.684Z"
   },
   {
    "duration": 25,
    "start_time": "2023-03-15T10:13:10.246Z"
   },
   {
    "duration": 5,
    "start_time": "2023-03-15T10:13:17.418Z"
   },
   {
    "duration": 26,
    "start_time": "2023-03-15T10:13:17.857Z"
   },
   {
    "duration": 1366,
    "start_time": "2023-03-15T10:13:31.838Z"
   },
   {
    "duration": 6,
    "start_time": "2023-03-15T10:13:37.661Z"
   },
   {
    "duration": 1717,
    "start_time": "2023-03-15T10:13:37.978Z"
   },
   {
    "duration": 1365,
    "start_time": "2023-03-15T10:13:48.381Z"
   },
   {
    "duration": 23557,
    "start_time": "2023-03-15T10:13:49.748Z"
   },
   {
    "duration": 1291,
    "start_time": "2023-03-15T10:14:20.134Z"
   },
   {
    "duration": 10357,
    "start_time": "2023-03-15T10:14:21.427Z"
   },
   {
    "duration": 62,
    "start_time": "2023-03-15T10:14:59.951Z"
   },
   {
    "duration": 1532,
    "start_time": "2023-03-15T10:15:03.772Z"
   },
   {
    "duration": 9823,
    "start_time": "2023-03-15T10:15:06.175Z"
   },
   {
    "duration": 2598,
    "start_time": "2023-03-15T10:16:14.147Z"
   },
   {
    "duration": 1390,
    "start_time": "2023-03-15T10:16:16.748Z"
   },
   {
    "duration": 31053,
    "start_time": "2023-03-15T10:16:18.140Z"
   },
   {
    "duration": 19,
    "start_time": "2023-03-15T10:16:49.195Z"
   },
   {
    "duration": 8209,
    "start_time": "2023-03-15T10:16:49.217Z"
   },
   {
    "duration": 3,
    "start_time": "2023-03-15T10:16:57.428Z"
   },
   {
    "duration": 16587,
    "start_time": "2023-03-15T10:16:57.433Z"
   },
   {
    "duration": 2579,
    "start_time": "2023-03-15T10:17:14.022Z"
   },
   {
    "duration": 4307,
    "start_time": "2023-03-15T10:17:16.603Z"
   },
   {
    "duration": 776,
    "start_time": "2023-03-15T10:17:20.912Z"
   },
   {
    "duration": 103,
    "start_time": "2023-03-15T10:17:21.691Z"
   },
   {
    "duration": 5698,
    "start_time": "2023-03-15T10:17:21.797Z"
   },
   {
    "duration": 21217,
    "start_time": "2023-03-15T10:17:27.497Z"
   },
   {
    "duration": 4,
    "start_time": "2023-03-15T10:17:48.716Z"
   },
   {
    "duration": 2282,
    "start_time": "2023-03-15T10:17:48.722Z"
   },
   {
    "duration": 4400,
    "start_time": "2023-03-15T10:17:51.006Z"
   },
   {
    "duration": 185,
    "start_time": "2023-03-15T10:17:55.408Z"
   },
   {
    "duration": 5,
    "start_time": "2023-03-15T10:17:55.596Z"
   },
   {
    "duration": 15,
    "start_time": "2023-03-15T10:17:55.603Z"
   },
   {
    "duration": 617961,
    "start_time": "2023-03-15T10:17:55.620Z"
   },
   {
    "duration": 378653,
    "start_time": "2023-03-15T10:28:13.583Z"
   },
   {
    "duration": 5490,
    "start_time": "2023-03-15T10:34:32.238Z"
   },
   {
    "duration": 27,
    "start_time": "2023-03-15T10:42:33.936Z"
   },
   {
    "duration": 51,
    "start_time": "2023-03-16T17:18:22.235Z"
   },
   {
    "duration": 1416,
    "start_time": "2023-03-16T17:18:31.119Z"
   },
   {
    "duration": 25961,
    "start_time": "2023-03-16T17:18:32.537Z"
   },
   {
    "duration": 533,
    "start_time": "2023-03-16T17:19:20.570Z"
   },
   {
    "duration": 53877,
    "start_time": "2023-03-16T18:40:31.176Z"
   },
   {
    "duration": 2453,
    "start_time": "2023-03-16T18:41:35.683Z"
   },
   {
    "duration": 1285,
    "start_time": "2023-03-16T18:41:39.726Z"
   },
   {
    "duration": 25113,
    "start_time": "2023-03-16T18:41:49.123Z"
   },
   {
    "duration": 3,
    "start_time": "2023-03-16T18:42:24.878Z"
   },
   {
    "duration": 7,
    "start_time": "2023-03-16T18:42:36.936Z"
   },
   {
    "duration": 106,
    "start_time": "2023-03-16T18:43:02.854Z"
   },
   {
    "duration": 4,
    "start_time": "2023-03-16T18:43:31.126Z"
   },
   {
    "duration": 5585,
    "start_time": "2023-03-16T18:43:35.671Z"
   },
   {
    "duration": 3,
    "start_time": "2023-03-16T18:45:05.748Z"
   },
   {
    "duration": 2128,
    "start_time": "2023-03-16T18:45:11.815Z"
   },
   {
    "duration": 3,
    "start_time": "2023-03-16T18:45:44.554Z"
   },
   {
    "duration": 1038,
    "start_time": "2023-03-16T18:46:58.117Z"
   },
   {
    "duration": 1881,
    "start_time": "2023-03-16T18:47:06.752Z"
   },
   {
    "duration": 77,
    "start_time": "2023-03-16T18:48:14.869Z"
   },
   {
    "duration": 76,
    "start_time": "2023-03-16T18:49:34.070Z"
   },
   {
    "duration": 64,
    "start_time": "2023-03-16T18:49:43.162Z"
   },
   {
    "duration": 10,
    "start_time": "2023-03-16T18:56:19.985Z"
   },
   {
    "duration": 11,
    "start_time": "2023-03-16T19:04:46.292Z"
   },
   {
    "duration": 10,
    "start_time": "2023-03-16T19:07:00.872Z"
   },
   {
    "duration": 10,
    "start_time": "2023-03-16T19:07:30.595Z"
   },
   {
    "duration": 80,
    "start_time": "2023-03-16T19:08:18.047Z"
   },
   {
    "duration": 1412,
    "start_time": "2023-03-16T19:10:02.764Z"
   },
   {
    "duration": 3,
    "start_time": "2023-03-16T19:21:13.574Z"
   },
   {
    "duration": 4,
    "start_time": "2023-03-16T19:21:32.619Z"
   },
   {
    "duration": 18,
    "start_time": "2023-03-16T19:21:51.039Z"
   },
   {
    "duration": 25,
    "start_time": "2023-03-16T19:22:06.020Z"
   },
   {
    "duration": 1236,
    "start_time": "2023-03-16T19:22:20.709Z"
   },
   {
    "duration": 2309,
    "start_time": "2023-03-16T19:22:46.845Z"
   },
   {
    "duration": 1251,
    "start_time": "2023-03-16T19:22:49.157Z"
   },
   {
    "duration": 24936,
    "start_time": "2023-03-16T19:22:50.410Z"
   },
   {
    "duration": 6,
    "start_time": "2023-03-16T19:23:15.349Z"
   },
   {
    "duration": 158,
    "start_time": "2023-03-16T19:23:15.357Z"
   },
   {
    "duration": 0,
    "start_time": "2023-03-16T19:23:15.517Z"
   },
   {
    "duration": 0,
    "start_time": "2023-03-16T19:23:15.518Z"
   },
   {
    "duration": 0,
    "start_time": "2023-03-16T19:23:15.519Z"
   },
   {
    "duration": 0,
    "start_time": "2023-03-16T19:23:15.520Z"
   },
   {
    "duration": 0,
    "start_time": "2023-03-16T19:23:15.531Z"
   },
   {
    "duration": 0,
    "start_time": "2023-03-16T19:23:15.531Z"
   },
   {
    "duration": 0,
    "start_time": "2023-03-16T19:23:15.532Z"
   },
   {
    "duration": 0,
    "start_time": "2023-03-16T19:23:15.533Z"
   },
   {
    "duration": 0,
    "start_time": "2023-03-16T19:23:15.534Z"
   },
   {
    "duration": 0,
    "start_time": "2023-03-16T19:23:15.536Z"
   },
   {
    "duration": 0,
    "start_time": "2023-03-16T19:23:15.537Z"
   },
   {
    "duration": 0,
    "start_time": "2023-03-16T19:23:15.538Z"
   },
   {
    "duration": 0,
    "start_time": "2023-03-16T19:23:15.539Z"
   },
   {
    "duration": 0,
    "start_time": "2023-03-16T19:23:15.540Z"
   },
   {
    "duration": 0,
    "start_time": "2023-03-16T19:23:15.541Z"
   },
   {
    "duration": 0,
    "start_time": "2023-03-16T19:23:15.542Z"
   },
   {
    "duration": 0,
    "start_time": "2023-03-16T19:23:15.543Z"
   },
   {
    "duration": 0,
    "start_time": "2023-03-16T19:23:15.544Z"
   },
   {
    "duration": 0,
    "start_time": "2023-03-16T19:23:15.545Z"
   },
   {
    "duration": 0,
    "start_time": "2023-03-16T19:23:15.546Z"
   },
   {
    "duration": 0,
    "start_time": "2023-03-16T19:23:15.547Z"
   },
   {
    "duration": 22,
    "start_time": "2023-03-16T19:23:28.983Z"
   },
   {
    "duration": 12,
    "start_time": "2023-03-16T19:23:29.940Z"
   },
   {
    "duration": 6041,
    "start_time": "2023-03-16T19:23:30.809Z"
   },
   {
    "duration": 3,
    "start_time": "2023-03-16T19:23:37.933Z"
   },
   {
    "duration": 12002,
    "start_time": "2023-03-16T19:23:38.837Z"
   },
   {
    "duration": 1523,
    "start_time": "2023-03-16T19:23:56.959Z"
   },
   {
    "duration": 3022,
    "start_time": "2023-03-16T19:23:58.810Z"
   },
   {
    "duration": 536,
    "start_time": "2023-03-16T19:24:05.207Z"
   },
   {
    "duration": 87,
    "start_time": "2023-03-16T19:24:07.947Z"
   },
   {
    "duration": 4465,
    "start_time": "2023-03-16T19:24:09.382Z"
   },
   {
    "duration": 15382,
    "start_time": "2023-03-16T19:24:13.850Z"
   },
   {
    "duration": 3,
    "start_time": "2023-03-16T19:24:29.235Z"
   },
   {
    "duration": 1993,
    "start_time": "2023-03-16T19:24:29.240Z"
   },
   {
    "duration": 3206,
    "start_time": "2023-03-16T19:24:31.236Z"
   },
   {
    "duration": 47,
    "start_time": "2023-03-16T19:24:34.443Z"
   },
   {
    "duration": 4,
    "start_time": "2023-03-16T19:24:34.530Z"
   },
   {
    "duration": 6,
    "start_time": "2023-03-16T19:24:34.536Z"
   },
   {
    "duration": 2348,
    "start_time": "2023-03-16T19:27:30.684Z"
   },
   {
    "duration": 1271,
    "start_time": "2023-03-16T19:27:33.034Z"
   },
   {
    "duration": 24546,
    "start_time": "2023-03-16T19:27:34.307Z"
   },
   {
    "duration": 74,
    "start_time": "2023-03-16T19:27:58.856Z"
   },
   {
    "duration": 5919,
    "start_time": "2023-03-16T19:27:58.933Z"
   },
   {
    "duration": 3,
    "start_time": "2023-03-16T19:28:04.854Z"
   },
   {
    "duration": 12718,
    "start_time": "2023-03-16T19:28:04.859Z"
   },
   {
    "duration": 1460,
    "start_time": "2023-03-16T19:28:17.632Z"
   },
   {
    "duration": 3354,
    "start_time": "2023-03-16T19:28:19.094Z"
   },
   {
    "duration": 591,
    "start_time": "2023-03-16T19:28:22.450Z"
   },
   {
    "duration": 131,
    "start_time": "2023-03-16T19:28:23.043Z"
   },
   {
    "duration": 4341,
    "start_time": "2023-03-16T19:28:23.230Z"
   },
   {
    "duration": 15782,
    "start_time": "2023-03-16T19:28:27.631Z"
   },
   {
    "duration": 18,
    "start_time": "2023-03-16T19:28:43.415Z"
   },
   {
    "duration": 1804,
    "start_time": "2023-03-16T19:28:43.435Z"
   },
   {
    "duration": 3295,
    "start_time": "2023-03-16T19:28:45.241Z"
   },
   {
    "duration": 97,
    "start_time": "2023-03-16T19:28:48.538Z"
   },
   {
    "duration": 3,
    "start_time": "2023-03-16T19:28:48.637Z"
   },
   {
    "duration": 13,
    "start_time": "2023-03-16T19:28:48.642Z"
   },
   {
    "duration": 82729,
    "start_time": "2023-03-16T19:28:48.657Z"
   },
   {
    "duration": 57516,
    "start_time": "2023-03-16T19:30:11.388Z"
   },
   {
    "duration": 2384,
    "start_time": "2023-03-16T19:31:17.747Z"
   },
   {
    "duration": 1284,
    "start_time": "2023-03-16T19:31:20.133Z"
   },
   {
    "duration": 14021,
    "start_time": "2023-03-16T19:31:21.418Z"
   },
   {
    "duration": 2505,
    "start_time": "2023-03-16T19:32:12.541Z"
   },
   {
    "duration": 1275,
    "start_time": "2023-03-16T19:32:15.048Z"
   },
   {
    "duration": 24237,
    "start_time": "2023-03-16T19:32:16.325Z"
   },
   {
    "duration": 2361,
    "start_time": "2023-03-16T19:33:43.652Z"
   },
   {
    "duration": 1320,
    "start_time": "2023-03-16T19:33:46.016Z"
   },
   {
    "duration": 24305,
    "start_time": "2023-03-16T19:33:47.337Z"
   },
   {
    "duration": 11,
    "start_time": "2023-03-16T19:34:11.646Z"
   },
   {
    "duration": 5902,
    "start_time": "2023-03-16T19:34:11.659Z"
   },
   {
    "duration": 4,
    "start_time": "2023-03-16T19:34:17.563Z"
   },
   {
    "duration": 12703,
    "start_time": "2023-03-16T19:34:17.568Z"
   },
   {
    "duration": 1566,
    "start_time": "2023-03-16T19:34:30.331Z"
   },
   {
    "duration": 3348,
    "start_time": "2023-03-16T19:34:31.899Z"
   },
   {
    "duration": 595,
    "start_time": "2023-03-16T19:34:35.251Z"
   },
   {
    "duration": 110,
    "start_time": "2023-03-16T19:34:35.847Z"
   },
   {
    "duration": 4981,
    "start_time": "2023-03-16T19:34:35.959Z"
   },
   {
    "duration": 16423,
    "start_time": "2023-03-16T19:34:40.942Z"
   },
   {
    "duration": 3,
    "start_time": "2023-03-16T19:34:57.367Z"
   },
   {
    "duration": 2085,
    "start_time": "2023-03-16T19:34:57.372Z"
   },
   {
    "duration": 3200,
    "start_time": "2023-03-16T19:34:59.459Z"
   },
   {
    "duration": 182,
    "start_time": "2023-03-16T19:35:02.661Z"
   },
   {
    "duration": 4,
    "start_time": "2023-03-16T19:35:02.845Z"
   },
   {
    "duration": 22,
    "start_time": "2023-03-16T19:35:02.851Z"
   },
   {
    "duration": 476942,
    "start_time": "2023-03-16T19:35:02.875Z"
   },
   {
    "duration": 2415,
    "start_time": "2023-03-16T19:43:55.060Z"
   },
   {
    "duration": 1256,
    "start_time": "2023-03-16T19:43:58.030Z"
   },
   {
    "duration": 24964,
    "start_time": "2023-03-16T19:44:02.384Z"
   }
  ],
  "colab": {
   "name": "PySparkSprint.ipynb",
   "provenance": []
  },
  "kernelspec": {
   "display_name": "Python 3 (ipykernel)",
   "language": "python",
   "name": "python3"
  },
  "language_info": {
   "codemirror_mode": {
    "name": "ipython",
    "version": 3
   },
   "file_extension": ".py",
   "mimetype": "text/x-python",
   "name": "python",
   "nbconvert_exporter": "python",
   "pygments_lexer": "ipython3",
   "version": "3.9.13"
  },
  "toc": {
   "base_numbering": 1,
   "nav_menu": {},
   "number_sections": true,
   "sideBar": true,
   "skip_h1_title": true,
   "title_cell": "Table of Contents",
   "title_sidebar": "Contents",
   "toc_cell": false,
   "toc_position": {},
   "toc_section_display": true,
   "toc_window_display": true
  }
 },
 "nbformat": 4,
 "nbformat_minor": 5
}
